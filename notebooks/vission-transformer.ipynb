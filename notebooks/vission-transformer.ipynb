{
 "cells": [
  {
   "cell_type": "code",
   "execution_count": 1,
   "id": "0c02fe02",
   "metadata": {
    "_cell_guid": "cc1bb6a9-2c63-4648-851e-6f71831f88fe",
    "_uuid": "2d70bed0-9835-4bf2-b279-38473ec895f7",
    "collapsed": false,
    "execution": {
     "iopub.execute_input": "2025-05-01T19:50:45.554608Z",
     "iopub.status.busy": "2025-05-01T19:50:45.554359Z",
     "iopub.status.idle": "2025-05-01T19:50:54.201317Z",
     "shell.execute_reply": "2025-05-01T19:50:54.200489Z"
    },
    "jupyter": {
     "outputs_hidden": false
    },
    "papermill": {
     "duration": 8.652364,
     "end_time": "2025-05-01T19:50:54.202799",
     "exception": false,
     "start_time": "2025-05-01T19:50:45.550435",
     "status": "completed"
    },
    "tags": []
   },
   "outputs": [],
   "source": [
    "# 📦 Imports\n",
    "import torch\n",
    "import torch.nn as nn\n",
    "import torch.nn.functional as F\n",
    "import torchvision\n",
    "import torchvision.transforms as transforms\n",
    "from torch.utils.data import DataLoader\n",
    "import matplotlib.pyplot as plt\n",
    "import time\n",
    "import numpy as np\n",
    "import os"
   ]
  },
  {
   "cell_type": "code",
   "execution_count": 2,
   "id": "6299493c",
   "metadata": {
    "_cell_guid": "b31b54b3-6823-4b73-a51f-b3976304b3c1",
    "_uuid": "c1a1e29a-170d-47c8-8990-f5e20e5bdc62",
    "collapsed": false,
    "execution": {
     "iopub.execute_input": "2025-05-01T19:50:54.208628Z",
     "iopub.status.busy": "2025-05-01T19:50:54.208351Z",
     "iopub.status.idle": "2025-05-01T19:50:54.212668Z",
     "shell.execute_reply": "2025-05-01T19:50:54.212185Z"
    },
    "jupyter": {
     "outputs_hidden": false
    },
    "papermill": {
     "duration": 0.008229,
     "end_time": "2025-05-01T19:50:54.213750",
     "exception": false,
     "start_time": "2025-05-01T19:50:54.205521",
     "status": "completed"
    },
    "tags": []
   },
   "outputs": [],
   "source": [
    "# 🧠 Vision Transformer Model\n",
    "\n",
    "class PatchEmbedding(nn.Module):\n",
    "    def __init__(self, img_size=32, patch_size=4, in_channels=3, emb_size=256):\n",
    "        super().__init__()\n",
    "        self.n_patches = (img_size // patch_size) ** 2\n",
    "        self.projection = nn.Conv2d(in_channels, emb_size, kernel_size=patch_size, stride=patch_size)\n",
    "\n",
    "    def forward(self, x):\n",
    "        x = self.projection(x)  # (B, emb_size, H/P, W/P)\n",
    "        x = x.flatten(2)        # (B, emb_size, N)\n",
    "        x = x.transpose(1, 2)   # (B, N, emb_size)\n",
    "        return x"
   ]
  },
  {
   "cell_type": "code",
   "execution_count": 3,
   "id": "b15916b3",
   "metadata": {
    "_cell_guid": "955e53dc-b80e-4239-86d3-348f6a49c514",
    "_uuid": "cb06512b-bf05-45d1-8272-be3975380a7a",
    "collapsed": false,
    "execution": {
     "iopub.execute_input": "2025-05-01T19:50:54.219014Z",
     "iopub.status.busy": "2025-05-01T19:50:54.218602Z",
     "iopub.status.idle": "2025-05-01T19:50:54.224385Z",
     "shell.execute_reply": "2025-05-01T19:50:54.223717Z"
    },
    "jupyter": {
     "outputs_hidden": false
    },
    "papermill": {
     "duration": 0.009509,
     "end_time": "2025-05-01T19:50:54.225485",
     "exception": false,
     "start_time": "2025-05-01T19:50:54.215976",
     "status": "completed"
    },
    "tags": []
   },
   "outputs": [],
   "source": [
    "class MultiHeadAttention(nn.Module):\n",
    "    def __init__(self, emb_size, num_heads):\n",
    "        super().__init__()\n",
    "        self.emb_size = emb_size\n",
    "        self.num_heads = num_heads\n",
    "        self.qkv = nn.Linear(emb_size, emb_size * 3)\n",
    "        self.attn_drop = nn.Dropout(0.1)\n",
    "        self.proj = nn.Linear(emb_size, emb_size)\n",
    "\n",
    "    def forward(self, x):\n",
    "        B, N, C = x.shape\n",
    "        qkv = self.qkv(x).reshape(B, N, 3, self.num_heads, C // self.num_heads).permute(2, 0, 3, 1, 4)\n",
    "        q, k, v = qkv[0], qkv[1], qkv[2]\n",
    "        attn = (q @ k.transpose(-2, -1)) * (1.0 / (k.shape[-1] ** 0.5))\n",
    "        attn = attn.softmax(dim=-1)\n",
    "        attn = self.attn_drop(attn)\n",
    "        out = (attn @ v).transpose(1, 2).reshape(B, N, C)\n",
    "        return self.proj(out)"
   ]
  },
  {
   "cell_type": "code",
   "execution_count": 4,
   "id": "9b329e4d",
   "metadata": {
    "_cell_guid": "aaf1bfba-1d6d-47ae-8e23-d1e4f511e0ac",
    "_uuid": "73475b5c-b6a7-4ba6-b945-5d775f245241",
    "collapsed": false,
    "execution": {
     "iopub.execute_input": "2025-05-01T19:50:54.230772Z",
     "iopub.status.busy": "2025-05-01T19:50:54.230239Z",
     "iopub.status.idle": "2025-05-01T19:50:54.234505Z",
     "shell.execute_reply": "2025-05-01T19:50:54.234013Z"
    },
    "jupyter": {
     "outputs_hidden": false
    },
    "papermill": {
     "duration": 0.007887,
     "end_time": "2025-05-01T19:50:54.235485",
     "exception": false,
     "start_time": "2025-05-01T19:50:54.227598",
     "status": "completed"
    },
    "tags": []
   },
   "outputs": [],
   "source": [
    "class TransformerEncoderBlock(nn.Module):\n",
    "    def __init__(self, emb_size, num_heads, mlp_dim):\n",
    "        super().__init__()\n",
    "        self.norm1 = nn.LayerNorm(emb_size)\n",
    "        self.attn = MultiHeadAttention(emb_size, num_heads)\n",
    "        self.norm2 = nn.LayerNorm(emb_size)\n",
    "        self.mlp = nn.Sequential(\n",
    "            nn.Linear(emb_size, mlp_dim),\n",
    "            nn.GELU(),\n",
    "            nn.Linear(mlp_dim, emb_size),\n",
    "        )\n",
    "\n",
    "    def forward(self, x):\n",
    "        x = x + self.attn(self.norm1(x))\n",
    "        x = x + self.mlp(self.norm2(x))\n",
    "        return x"
   ]
  },
  {
   "cell_type": "code",
   "execution_count": 5,
   "id": "601a0dbb",
   "metadata": {
    "_cell_guid": "4fc04001-fefa-41ab-99a9-07e71ef27467",
    "_uuid": "bb73f22c-a647-49db-a0ec-33a4df4f8f73",
    "collapsed": false,
    "execution": {
     "iopub.execute_input": "2025-05-01T19:50:54.240749Z",
     "iopub.status.busy": "2025-05-01T19:50:54.240219Z",
     "iopub.status.idle": "2025-05-01T19:50:54.246056Z",
     "shell.execute_reply": "2025-05-01T19:50:54.245344Z"
    },
    "jupyter": {
     "outputs_hidden": false
    },
    "papermill": {
     "duration": 0.009479,
     "end_time": "2025-05-01T19:50:54.247076",
     "exception": false,
     "start_time": "2025-05-01T19:50:54.237597",
     "status": "completed"
    },
    "tags": []
   },
   "outputs": [],
   "source": [
    "class VisionTransformer(nn.Module):\n",
    "    def __init__(self, img_size=32, patch_size=4, emb_size=256, depth=6, num_heads=8, mlp_dim=512, num_classes=10):\n",
    "        super().__init__()\n",
    "        self.patch_embed = PatchEmbedding(img_size, patch_size, in_channels=3, emb_size=emb_size)\n",
    "        self.cls_token = nn.Parameter(torch.randn(1, 1, emb_size))\n",
    "        self.pos_embed = nn.Parameter(torch.randn(1, (img_size // patch_size) ** 2 + 1, emb_size))\n",
    "        self.transformer = nn.Sequential(*[\n",
    "            TransformerEncoderBlock(emb_size, num_heads, mlp_dim) for _ in range(depth)\n",
    "        ])\n",
    "        self.mlp_head = nn.Sequential(\n",
    "            nn.LayerNorm(emb_size),\n",
    "            nn.Linear(emb_size, num_classes)\n",
    "        )\n",
    "\n",
    "    def forward(self, x):\n",
    "        B = x.shape[0]\n",
    "        x = self.patch_embed(x)\n",
    "        cls_tokens = self.cls_token.expand(B, -1, -1)\n",
    "        x = torch.cat((cls_tokens, x), dim=1)\n",
    "        x = x + self.pos_embed\n",
    "        x = self.transformer(x)\n",
    "        return self.mlp_head(x[:, 0])"
   ]
  },
  {
   "cell_type": "code",
   "execution_count": 6,
   "id": "3d47472e",
   "metadata": {
    "_cell_guid": "67ec3c32-d8b0-442e-a67a-08c2008d67b2",
    "_uuid": "ecb75f2e-f8d9-4a53-836a-b44ba90cb965",
    "collapsed": false,
    "execution": {
     "iopub.execute_input": "2025-05-01T19:50:54.252098Z",
     "iopub.status.busy": "2025-05-01T19:50:54.251897Z",
     "iopub.status.idle": "2025-05-01T19:51:01.293281Z",
     "shell.execute_reply": "2025-05-01T19:51:01.292699Z"
    },
    "jupyter": {
     "outputs_hidden": false
    },
    "papermill": {
     "duration": 7.045371,
     "end_time": "2025-05-01T19:51:01.294570",
     "exception": false,
     "start_time": "2025-05-01T19:50:54.249199",
     "status": "completed"
    },
    "tags": []
   },
   "outputs": [
    {
     "name": "stdout",
     "output_type": "stream",
     "text": [
      "Downloading https://www.cs.toronto.edu/~kriz/cifar-10-python.tar.gz to ./data/cifar-10-python.tar.gz\n"
     ]
    },
    {
     "name": "stderr",
     "output_type": "stream",
     "text": [
      "100%|██████████| 170M/170M [00:03<00:00, 48.5MB/s]\n"
     ]
    },
    {
     "name": "stdout",
     "output_type": "stream",
     "text": [
      "Extracting ./data/cifar-10-python.tar.gz to ./data\n",
      "Files already downloaded and verified\n"
     ]
    }
   ],
   "source": [
    "# 📊 Load CIFAR-10 Data\n",
    "transform = transforms.Compose([\n",
    "    transforms.Resize((32, 32)),\n",
    "    transforms.ToTensor(),\n",
    "])\n",
    "\n",
    "train_dataset = torchvision.datasets.CIFAR10(root='./data', train=True, download=True, transform=transform)\n",
    "test_dataset = torchvision.datasets.CIFAR10(root='./data', train=False, download=True, transform=transform)\n",
    "\n",
    "train_loader = DataLoader(train_dataset, batch_size=64, shuffle=True)\n",
    "test_loader = DataLoader(test_dataset, batch_size=64, shuffle=False)"
   ]
  },
  {
   "cell_type": "code",
   "execution_count": 7,
   "id": "d71893ca",
   "metadata": {
    "_cell_guid": "823f02cd-a204-4f19-9298-c5319bae053c",
    "_uuid": "2d2a3474-2a10-449e-ad14-cf6a0d968de5",
    "collapsed": false,
    "execution": {
     "iopub.execute_input": "2025-05-01T19:51:01.304260Z",
     "iopub.status.busy": "2025-05-01T19:51:01.304030Z",
     "iopub.status.idle": "2025-05-01T19:51:01.309234Z",
     "shell.execute_reply": "2025-05-01T19:51:01.308741Z"
    },
    "jupyter": {
     "outputs_hidden": false
    },
    "papermill": {
     "duration": 0.010496,
     "end_time": "2025-05-01T19:51:01.310292",
     "exception": false,
     "start_time": "2025-05-01T19:51:01.299796",
     "status": "completed"
    },
    "tags": []
   },
   "outputs": [],
   "source": [
    "# ⚙️ Train & Eval Functions\n",
    "\n",
    "def train_one_epoch(model, loader, criterion, optimizer, device):\n",
    "    model.train()\n",
    "    running_loss = 0.0\n",
    "    for images, labels in loader:\n",
    "        images, labels = images.to(device), labels.to(device)\n",
    "        optimizer.zero_grad()\n",
    "        outputs = model(images)\n",
    "        loss = criterion(outputs, labels)\n",
    "        loss.backward()\n",
    "        optimizer.step()\n",
    "        running_loss += loss.item()\n",
    "    return running_loss / len(loader)\n",
    "\n",
    "def evaluate(model, loader, device):\n",
    "    model.eval()\n",
    "    correct = 0\n",
    "    total = 0\n",
    "    with torch.no_grad():\n",
    "        for images, labels in loader:\n",
    "            images, labels = images.to(device), labels.to(device)\n",
    "            outputs = model(images)\n",
    "            _, preds = torch.max(outputs, 1)\n",
    "            correct += (preds == labels).sum().item()\n",
    "            total += labels.size(0)\n",
    "    return correct / total"
   ]
  },
  {
   "cell_type": "code",
   "execution_count": 8,
   "id": "dd931e5f",
   "metadata": {
    "_cell_guid": "4068a85f-dc10-4b98-82dd-75541b06a68a",
    "_uuid": "efacafbb-0392-482d-a012-be9a4351368c",
    "collapsed": false,
    "execution": {
     "iopub.execute_input": "2025-05-01T19:51:01.318475Z",
     "iopub.status.busy": "2025-05-01T19:51:01.317888Z",
     "iopub.status.idle": "2025-05-01T19:58:21.695106Z",
     "shell.execute_reply": "2025-05-01T19:58:21.694426Z"
    },
    "jupyter": {
     "outputs_hidden": false
    },
    "papermill": {
     "duration": 440.386411,
     "end_time": "2025-05-01T19:58:21.700248",
     "exception": false,
     "start_time": "2025-05-01T19:51:01.313837",
     "status": "completed"
    },
    "tags": []
   },
   "outputs": [
    {
     "name": "stdout",
     "output_type": "stream",
     "text": [
      "Epoch Train Loss      Train Accuracy     Test Accuracy     \n",
      "1     1.8378          0.4241             0.4179            \n",
      "2     1.5294          0.4857             0.4810            \n",
      "3     1.3915          0.5427             0.5283            \n",
      "4     1.3010          0.5669             0.5411            \n",
      "5     1.2297          0.5992             0.5590            \n",
      "6     1.1622          0.6266             0.5690            \n",
      "7     1.1006          0.6566             0.5935            \n",
      "8     1.0404          0.6684             0.5897            \n",
      "9     0.9825          0.6980             0.6000            \n",
      "10    0.9287          0.7273             0.6118            \n"
     ]
    }
   ],
   "source": [
    "# 🚀 Train the ViT Model with Logging\n",
    "\n",
    "device = torch.device('cuda' if torch.cuda.is_available() else 'cpu')\n",
    "model = VisionTransformer()\n",
    "model.to(device)\n",
    "\n",
    "criterion = nn.CrossEntropyLoss()\n",
    "optimizer = torch.optim.AdamW(model.parameters(), lr=3e-4)\n",
    "\n",
    "epochs = 10\n",
    "train_accs = []\n",
    "test_accs = []\n",
    "\n",
    "# Print headers for logging\n",
    "print(f\"{'Epoch':<5} {'Train Loss':<15} {'Train Accuracy':<18} {'Test Accuracy':<18}\")\n",
    "\n",
    "for epoch in range(epochs):\n",
    "    # Train for one epoch\n",
    "    loss = train_one_epoch(model, train_loader, criterion, optimizer, device)\n",
    "    \n",
    "    # Get accuracies\n",
    "    train_acc = evaluate(model, train_loader, device)\n",
    "    test_acc = evaluate(model, test_loader, device)\n",
    "    \n",
    "    # Append accuracies\n",
    "    train_accs.append(train_acc)\n",
    "    test_accs.append(test_acc)\n",
    "    \n",
    "    # Print the logs\n",
    "    print(f\"{epoch+1:<5} {loss:<15.4f} {train_acc:<18.4f} {test_acc:<18.4f}\")"
   ]
  },
  {
   "cell_type": "code",
   "execution_count": null,
   "id": "58d2da83",
   "metadata": {
    "_cell_guid": "6f2beb1a-b811-4a1a-afc1-8f3689b635ee",
    "_uuid": "057433c7-1fca-4053-9d6b-68157ed20cd1",
    "collapsed": false,
    "execution": {
     "iopub.execute_input": "2025-05-01T19:58:21.709012Z",
     "iopub.status.busy": "2025-05-01T19:58:21.708790Z",
     "iopub.status.idle": "2025-05-01T19:58:21.737881Z",
     "shell.execute_reply": "2025-05-01T19:58:21.737363Z"
    },
    "jupyter": {
     "outputs_hidden": false
    },
    "papermill": {
     "duration": 0.034696,
     "end_time": "2025-05-01T19:58:21.738991",
     "exception": false,
     "start_time": "2025-05-01T19:58:21.704295",
     "status": "completed"
    },
    "tags": []
   },
   "outputs": [],
   "source": [
    "# 💾 Save the model\n",
    "torch.save(model.state_dict(), \"/models/vit_cifar10.pt\")"
   ]
  },
  {
   "cell_type": "code",
   "execution_count": 10,
   "id": "22132843",
   "metadata": {
    "_cell_guid": "7c2c9fc4-8f8b-402f-a2a6-0128bc090462",
    "_uuid": "9261b171-5b80-41a3-8f91-1f4e05d2bcf4",
    "collapsed": false,
    "execution": {
     "iopub.execute_input": "2025-05-01T19:58:21.747575Z",
     "iopub.status.busy": "2025-05-01T19:58:21.747374Z",
     "iopub.status.idle": "2025-05-01T19:58:21.963483Z",
     "shell.execute_reply": "2025-05-01T19:58:21.962860Z"
    },
    "jupyter": {
     "outputs_hidden": false
    },
    "papermill": {
     "duration": 0.221989,
     "end_time": "2025-05-01T19:58:21.964989",
     "exception": false,
     "start_time": "2025-05-01T19:58:21.743000",
     "status": "completed"
    },
    "tags": []
   },
   "outputs": [
    {
     "data": {
      "image/png": "[encoded data removed]",
      "text/plain": [
       "<Figure size 640x480 with 1 Axes>"
      ]
     },
     "metadata": {},
     "output_type": "display_data"
    }
   ],
   "source": [
    "# 📈 Plot accuracy\n",
    "plt.plot(train_accs, label=\"Train\")\n",
    "plt.plot(test_accs, label=\"Test\")\n",
    "plt.xlabel(\"Epoch\")\n",
    "plt.ylabel(\"Accuracy\")\n",
    "plt.title(\"ViT Accuracy on CIFAR-10\")\n",
    "plt.legend()\n",
    "plt.grid()\n",
    "plt.show()"
   ]
  }
 ],
 "metadata": {
  "kaggle": {
   "accelerator": "gpu",
   "dataSources": [],
   "dockerImageVersionId": 31011,
   "isGpuEnabled": true,
   "isInternetEnabled": true,
   "language": "python",
   "sourceType": "notebook"
  },
  "kernelspec": {
   "display_name": "Python 3",
   "language": "python",
   "name": "python3"
  },
  "language_info": {
   "codemirror_mode": {
    "name": "ipython",
    "version": 3
   },
   "file_extension": ".py",
   "mimetype": "text/x-python",
   "name": "python",
   "nbconvert_exporter": "python",
   "pygments_lexer": "ipython3",
   "version": "3.11.11"
  },
  "papermill": {
   "default_parameters": {},
   "duration": 463.484115,
   "end_time": "2025-05-01T19:58:24.816265",
   "environment_variables": {},
   "exception": null,
   "input_path": "__notebook__.ipynb",
   "output_path": "__notebook__.ipynb",
   "parameters": {},
   "start_time": "2025-05-01T19:50:41.332150",
   "version": "2.6.0"
  }
 },
 "nbformat": 4,
 "nbformat_minor": 5
}
